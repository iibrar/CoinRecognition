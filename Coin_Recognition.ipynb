{
  "nbformat": 4,
  "nbformat_minor": 0,
  "metadata": {
    "colab": {
      "name": "Coin Recognition.ipynb",
      "provenance": []
    },
    "kernelspec": {
      "name": "python3",
      "display_name": "Python 3"
    },
    "language_info": {
      "name": "python"
    }
  },
  "cells": [
    {
      "cell_type": "code",
      "execution_count": null,
      "metadata": {
        "id": "9mNcZyfo02oD"
      },
      "outputs": [],
      "source": [
        "import cv2\n",
        "import imutils\n",
        "import numpy as np\n",
        "import matplotlib.pyplot as plt\n",
        "\n",
        "image = cv2.imread(\"/content/drive/MyDrive/images_folder/coins.jpg\")\n",
        "image_blur = cv2.medianBlur(image,25)\n",
        "\n",
        "image_blur_gray = cv2.cvtColor(image_blur, cv2.COLOR_BGR2GRAY)\n",
        "\n",
        "image_res ,image_thresh = cv2.threshold(image_blur_gray,240,255,cv2.THRESH_BINARY_INV)\n",
        "\n",
        "kernel = np.ones((3,3),np.uint8)\n",
        "\n",
        "opening = cv2.morphologyEx(image_thresh,cv2.MORPH_OPEN,kernel) \n",
        "\n",
        "dist_transform = cv2.distanceTransform(opening,cv2.DIST_L2,5)\n",
        "ret, last_image =  cv2.threshold(dist_transform, 0.3*dist_transform.max(),255,0)\n",
        "last_image = np.uint8(last_image)\n",
        "cnts = cv2.findContours(last_image.copy(), cv2.RETR_EXTERNAL,\n",
        "\tcv2.CHAIN_APPROX_SIMPLE)\n",
        "cnts = imutils.grab_contours(cnts)\n",
        "\n",
        "def display(img,count,cmap=\"gray\"):\n",
        "    f_image = cv2.imread(\"/content/drive/MyDrive/images_folder/coins.jpg\")\n",
        "    f, axs = plt.subplots(1,2,figsize=(12,5))\n",
        "    axs[0].imshow(f_image,cmap=\"gray\")\n",
        "    axs[1].imshow(img,cmap=\"gray\")\n",
        "    axs[1].set_title(\"Total Money Count = {}\".format(count))\n",
        "\n",
        "for (i, c) in enumerate(cnts):\n",
        "\t((x, y), _) = cv2.minEnclosingCircle(c)\n",
        "\tcv2.putText(image, \"#{}\".format(i + 1), (int(x) - 45, int(y)+20),\n",
        "\t\tcv2.FONT_HERSHEY_SIMPLEX, 2, (255, 0, 0), 5)\n",
        "\tcv2.drawContours(image, [c], -1, (0, 255, 0), 2)\n",
        "\n",
        "display(image,len(cnts))"
      ]
    }
  ]
}